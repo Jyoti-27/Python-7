{
 "cells": [
  {
   "cell_type": "markdown",
   "metadata": {},
   "source": [
    "- Conditional Statement and Loops"
   ]
  },
  {
   "cell_type": "code",
   "execution_count": 4,
   "metadata": {},
   "outputs": [
    {
     "name": "stdout",
     "output_type": "stream",
     "text": [
      "{'Rohith': 'rohith123', 'Virat': 'virat123', 'Sharma': 'sharma123', 'Kohli': 'kohli123', 'Dhoni': 'dhoni123', 'Yuvi': 'yuvi123'}\n"
     ]
    }
   ],
   "source": [
    "credentials = {'Rohith':'rohith123', \n",
    "               'Virat':'virat123', \n",
    "               'Sharma':'sharma123',\n",
    "               'Kohli':'kohli123', \n",
    "               'Dhoni':'dhoni123',\n",
    "               'Yuvi':'yuvi123' }\n",
    "print(credentials)"
   ]
  },
  {
   "cell_type": "code",
   "execution_count": 5,
   "metadata": {},
   "outputs": [
    {
     "data": {
      "text/plain": [
       "dict_items([('Rohith', 'rohith123'), ('Virat', 'virat123'), ('Sharma', 'sharma123'), ('Kohli', 'kohli123'), ('Dhoni', 'dhoni123'), ('Yuvi', 'yuvi123')])"
      ]
     },
     "execution_count": 5,
     "metadata": {},
     "output_type": "execute_result"
    }
   ],
   "source": [
    "credentials.items()"
   ]
  },
  {
   "cell_type": "code",
   "execution_count": 7,
   "metadata": {},
   "outputs": [
    {
     "name": "stdout",
     "output_type": "stream",
     "text": [
      "Please Enter your username: Jyoti\n",
      "Please Enter you password: Jyoti@2714*\n",
      "username is not in database\n",
      "Would you like to sign up: y/n: y\n",
      "Enter your New username: Jyo\n",
      "Enter you New password: Jyo@2714**\n",
      "Added Successfully\n",
      "{'Rohith': 'rohith123', 'Virat': 'virat123', 'Sharma': 'sharma123', 'Kohli': 'kohli123', 'Dhoni': 'dhoni123', 'Yuvi': 'yuvi123', 'Jyo': 'Jyo@2714**'}\n"
     ]
    }
   ],
   "source": [
    "username = input('Please Enter your username: ')\n",
    "password = input('Please Enter you password: ')\n",
    "\n",
    "if username not in credentials.keys():\n",
    "        print('username is not in database')\n",
    "        ask = input('Would you like to sign up: y/n: ')\n",
    "        if ask.lower() == 'y':\n",
    "            username = input('Enter your New username: ')\n",
    "            password = input('Enter you New password: ')\n",
    "            \n",
    "            credentials.update({username:password})\n",
    "            print(\"Added Successfully\")\n",
    "            print(credentials)\n",
    "        else:\n",
    "            print('Thank you !!!')\n",
    "\n",
    "elif credentials[username] == password:\n",
    "    print('Hello {} welcome, Lets start the game !!!'.format(username))\n",
    "    # nested if condition (or nested statements)\n",
    "else:\n",
    "    print('Username or password is wrong')"
   ]
  },
  {
   "cell_type": "markdown",
   "metadata": {},
   "source": [
    "- Q.1 write a program to read 3 numbers and check which number is greater"
   ]
  },
  {
   "cell_type": "code",
   "execution_count": 8,
   "metadata": {},
   "outputs": [
    {
     "name": "stdout",
     "output_type": "stream",
     "text": [
      "Enter first number: 67\n",
      "Enter second number: 23\n",
      "Enter third number: 87\n",
      "The third number is greater\n"
     ]
    }
   ],
   "source": [
    "num1= int(input(\"Enter first number: \"))\n",
    "num2= int(input(\"Enter second number: \"))\n",
    "num3= int(input(\"Enter third number: \"))\n",
    "if num1>num2 and num1>num3:\n",
    "    print(\"The first number is greater\")\n",
    "    if num1==num2 or num1==num3:\n",
    "        print(\"The entered numbers are equal. Please enter the numbers again\")\n",
    "elif num2>num3 and num2>num1:\n",
    "    print(\"The second number is greater\")\n",
    "    if num2==num1 or num2==num3:\n",
    "        print(\"The entered numbers are equal. Please enter the numbers again\")\n",
    "elif num3>num1 and num3>num2:\n",
    "    print(\"The third number is greater\")\n",
    "    if num3==num1 or num3==num2:\n",
    "        print(\"The entered numbers are equal. Please enter the numbers again\")\n",
    "else:\n",
    "    print(\"All the numbers are equal\")\n"
   ]
  },
  {
   "cell_type": "markdown",
   "metadata": {},
   "source": [
    "- Q.2 write a program, that user will enter the two numbers and your program need to tell which number is greater   and if both       are equal print both are equal."
   ]
  },
  {
   "cell_type": "code",
   "execution_count": 9,
   "metadata": {},
   "outputs": [
    {
     "name": "stdout",
     "output_type": "stream",
     "text": [
      "Enter the first number: 18\n",
      "Enter the second number: 46\n",
      "The second number is greater\n"
     ]
    }
   ],
   "source": [
    "n1=int(input(\"Enter the first number: \")); \n",
    "n2=int(input(\"Enter the second number: \"))\n",
    "if n1>n2:\n",
    "    print(\"The first number is greater\")\n",
    "elif n2>n1:\n",
    "    print(\"The second number is greater\")\n",
    "else:\n",
    "    print(\"The numbers are equal\")"
   ]
  },
  {
   "cell_type": "code",
   "execution_count": 10,
   "metadata": {},
   "outputs": [
    {
     "name": "stdout",
     "output_type": "stream",
     "text": [
      "2\n",
      "4\n",
      "5\n",
      "7\n",
      "9\n"
     ]
    }
   ],
   "source": [
    "list1 = [2,4,5,7,9]\n",
    "for i in list1:\n",
    "    print(i)"
   ]
  },
  {
   "cell_type": "code",
   "execution_count": 11,
   "metadata": {},
   "outputs": [
    {
     "name": "stdout",
     "output_type": "stream",
     "text": [
      "4\n",
      "6\n",
      "7\n",
      "9\n",
      "11\n"
     ]
    }
   ],
   "source": [
    "list1 = [2,4,5,7,9]\n",
    "for i in list1:\n",
    "    print(i+2)"
   ]
  },
  {
   "cell_type": "code",
   "execution_count": 12,
   "metadata": {},
   "outputs": [
    {
     "name": "stdout",
     "output_type": "stream",
     "text": [
      "Jyoti\n",
      "Navisha\n",
      "Chaitali\n"
     ]
    }
   ],
   "source": [
    "list2 = [\"Jyoti\", \"Navisha\", \"Chaitali\"]\n",
    "for i in list2:\n",
    "    print(i)"
   ]
  },
  {
   "cell_type": "markdown",
   "metadata": {},
   "source": [
    "- Q Print DataFolkz at 10 times."
   ]
  },
  {
   "cell_type": "code",
   "execution_count": 14,
   "metadata": {},
   "outputs": [
    {
     "name": "stdout",
     "output_type": "stream",
     "text": [
      "0\n",
      "Datafolkz\n",
      "1\n",
      "Datafolkz\n",
      "2\n",
      "Datafolkz\n",
      "3\n",
      "Datafolkz\n",
      "4\n",
      "Datafolkz\n",
      "5\n",
      "Datafolkz\n",
      "6\n",
      "Datafolkz\n",
      "7\n",
      "Datafolkz\n",
      "8\n",
      "Datafolkz\n",
      "9\n",
      "Datafolkz\n"
     ]
    }
   ],
   "source": [
    "for i in range(10):\n",
    "    print(i)\n",
    "    print('Datafolkz')"
   ]
  },
  {
   "cell_type": "code",
   "execution_count": 15,
   "metadata": {},
   "outputs": [
    {
     "name": "stdout",
     "output_type": "stream",
     "text": [
      "Data\n",
      "Folkz\n",
      "Python\n",
      "DataScience\n",
      "AI\n"
     ]
    }
   ],
   "source": [
    "list3 = [\"Data\", \"Folkz\", \"Python\", \"DataScience\", \"AI\"]\n",
    "for ele in list3:\n",
    "    print(ele)"
   ]
  },
  {
   "cell_type": "markdown",
   "metadata": {},
   "source": [
    "- iterate over the list using index\n",
    "- for index in range(len(list)):\n",
    "- print(list[index])"
   ]
  },
  {
   "cell_type": "code",
   "execution_count": 17,
   "metadata": {},
   "outputs": [
    {
     "ename": "SyntaxError",
     "evalue": "unexpected EOF while parsing (<ipython-input-17-f7a4be0a53e8>, line 2)",
     "output_type": "error",
     "traceback": [
      "\u001b[1;36m  File \u001b[1;32m\"<ipython-input-17-f7a4be0a53e8>\"\u001b[1;36m, line \u001b[1;32m2\u001b[0m\n\u001b[1;33m    for i in range(len(list3)):\u001b[0m\n\u001b[1;37m                               ^\u001b[0m\n\u001b[1;31mSyntaxError\u001b[0m\u001b[1;31m:\u001b[0m unexpected EOF while parsing\n"
     ]
    }
   ],
   "source": [
    "list3 = [\"Data\", \"Folkz\", \"Python\", \"DataScience\", \"AI\"]\n",
    "for i in range(len(list3)):"
   ]
  },
  {
   "cell_type": "code",
   "execution_count": 18,
   "metadata": {},
   "outputs": [
    {
     "data": {
      "text/plain": [
       "range(0, 10)"
      ]
     },
     "execution_count": 18,
     "metadata": {},
     "output_type": "execute_result"
    }
   ],
   "source": [
    "range(10)"
   ]
  },
  {
   "cell_type": "code",
   "execution_count": 19,
   "metadata": {},
   "outputs": [
    {
     "data": {
      "text/plain": [
       "[0, 1, 2, 3, 4, 5, 6, 7, 8, 9]"
      ]
     },
     "execution_count": 19,
     "metadata": {},
     "output_type": "execute_result"
    }
   ],
   "source": [
    "list(range(10))"
   ]
  },
  {
   "cell_type": "code",
   "execution_count": 20,
   "metadata": {},
   "outputs": [
    {
     "data": {
      "text/plain": [
       "[400, 410, 420, 430, 440, 450, 460, 470, 480, 490]"
      ]
     },
     "execution_count": 20,
     "metadata": {},
     "output_type": "execute_result"
    }
   ],
   "source": [
    "list1 = list(range(400,500,10))\n",
    "list1"
   ]
  },
  {
   "cell_type": "code",
   "execution_count": 21,
   "metadata": {},
   "outputs": [
    {
     "data": {
      "text/plain": [
       "[500, 490, 480, 470, 460, 450, 440, 430, 420, 410]"
      ]
     },
     "execution_count": 21,
     "metadata": {},
     "output_type": "execute_result"
    }
   ],
   "source": [
    "list1 = list(range(500,400,-10))\n",
    "list1"
   ]
  },
  {
   "cell_type": "code",
   "execution_count": 22,
   "metadata": {},
   "outputs": [
    {
     "data": {
      "text/plain": [
       "[]"
      ]
     },
     "execution_count": 22,
     "metadata": {},
     "output_type": "execute_result"
    }
   ],
   "source": [
    "list2 = list(range(400,500,-10))\n",
    "list2"
   ]
  },
  {
   "cell_type": "code",
   "execution_count": 23,
   "metadata": {},
   "outputs": [
    {
     "name": "stdout",
     "output_type": "stream",
     "text": [
      "5\n",
      "Data\n",
      "Folkz\n",
      "Python\n",
      "DataScience\n",
      "MachineLearning\n"
     ]
    }
   ],
   "source": [
    "lst = [\"Data\", \"Folkz\", \"Python\", \"DataScience\", \"MachineLearning\"]\n",
    "print(len(lst))\n",
    "for index in range(len(lst)):\n",
    "    print(lst[index])"
   ]
  },
  {
   "cell_type": "code",
   "execution_count": 24,
   "metadata": {},
   "outputs": [
    {
     "name": "stdout",
     "output_type": "stream",
     "text": [
      "0 - Data\n",
      "1 - Folkz\n",
      "2 - Python\n",
      "3 - DataScience\n",
      "4 - MachineLearning\n"
     ]
    }
   ],
   "source": [
    "lst = [\"Data\", \"Folkz\", \"Python\", \"DataScience\", \"MachineLearning\"]\n",
    "for i in range(len(lst)):\n",
    "    print(i,'-',lst[i])"
   ]
  },
  {
   "cell_type": "code",
   "execution_count": 25,
   "metadata": {},
   "outputs": [
    {
     "name": "stdout",
     "output_type": "stream",
     "text": [
      "Final Product is:10\n",
      "Final Product is:200\n",
      "Final Product is:6000\n",
      "Final Product is:240000\n",
      "Final Product is:12000000\n"
     ]
    }
   ],
   "source": [
    "# Find the Product of all numbers present in a list\n",
    "lst = [10, 20, 30, 40, 50]\n",
    "product = 1\n",
    "#iterating over the list\n",
    "for ele in lst:\n",
    "    product *= ele # multiply product * ele(terate each index value of list \"lst\")\n",
    "    print(\"Final Product is:{}\".format(product))\n",
    "    "
   ]
  },
  {
   "cell_type": "code",
   "execution_count": 26,
   "metadata": {},
   "outputs": [
    {
     "name": "stdout",
     "output_type": "stream",
     "text": [
      "Current indexing value in  10 \n",
      "\n",
      "Current product value at this ele is: 1\n",
      "Current product after multiplying with each ele: 10 \n",
      "\n",
      "--------------------------------------------------\n",
      "Final Product is:10\n",
      "Current indexing value in  20 \n",
      "\n",
      "Current product value at this ele is: 10\n",
      "Current product after multiplying with each ele: 200 \n",
      "\n",
      "--------------------------------------------------\n",
      "Final Product is:200\n",
      "Current indexing value in  30 \n",
      "\n",
      "Current product value at this ele is: 200\n",
      "Current product after multiplying with each ele: 6000 \n",
      "\n",
      "--------------------------------------------------\n",
      "Final Product is:6000\n",
      "Current indexing value in  40 \n",
      "\n",
      "Current product value at this ele is: 6000\n",
      "Current product after multiplying with each ele: 240000 \n",
      "\n",
      "--------------------------------------------------\n",
      "Final Product is:240000\n",
      "Current indexing value in  50 \n",
      "\n",
      "Current product value at this ele is: 240000\n",
      "Current product after multiplying with each ele: 12000000 \n",
      "\n",
      "--------------------------------------------------\n",
      "Final Product is:12000000\n"
     ]
    }
   ],
   "source": [
    "# Find the Product of all numbers present in a list\n",
    "lst = [10, 20, 30, 40, 50]\n",
    "product = 1\n",
    "#iterating over the list\n",
    "for ele in lst:\n",
    "    print(\"Current indexing value in \", ele, '\\n')\n",
    "    print(\"Current product value at this ele is:\" , product)\n",
    "    product *= ele # multiply product * ele(terate each index value of list \"lst\")\n",
    "    print(\"Current product after multiplying with each ele:\", product, '\\n')\n",
    "    print(\"-\"*50)\n",
    "    print(\"Final Product is:{}\".format(product))\n",
    "    "
   ]
  },
  {
   "cell_type": "code",
   "execution_count": 27,
   "metadata": {},
   "outputs": [
    {
     "name": "stdout",
     "output_type": "stream",
     "text": [
      "2\n",
      "5\n",
      "9\n",
      "14\n",
      "20\n",
      "final sum is : 20\n"
     ]
    }
   ],
   "source": [
    "# To print sum of elements in list\n",
    "list1=[2,3,4,5,6]\n",
    "sum = 0\n",
    "for i in list1:\n",
    "    sum +=i # iterate each index value of list1\n",
    "    print(sum) \n",
    "print('final sum is :',sum)    "
   ]
  },
  {
   "cell_type": "code",
   "execution_count": 28,
   "metadata": {},
   "outputs": [
    {
     "name": "stdout",
     "output_type": "stream",
     "text": [
      "1\n",
      "2\n",
      "3\n",
      "4\n",
      "8\n",
      "9\n",
      "12\n",
      "no item left in the list\n"
     ]
    }
   ],
   "source": [
    "numbers = [1, 2, 3,4,8,9,12]\n",
    "# iterating over the list\n",
    "for item in numbers:\n",
    "    print(item)\n",
    "else:\n",
    "        print(\"no item left in the list\")"
   ]
  },
  {
   "cell_type": "code",
   "execution_count": 29,
   "metadata": {},
   "outputs": [
    {
     "name": "stdout",
     "output_type": "stream",
     "text": [
      "1\n",
      "2\n"
     ]
    }
   ],
   "source": [
    "for item in numbers:\n",
    "    print(item)\n",
    "    if item % 2 == 0:\n",
    "        break\n",
    "else:\n",
    "            print(\"no item left in the list\")"
   ]
  },
  {
   "cell_type": "code",
   "execution_count": 30,
   "metadata": {},
   "outputs": [
    {
     "name": "stdout",
     "output_type": "stream",
     "text": [
      "1\n",
      "2\n",
      "5\n",
      "7\n",
      "11\n",
      "12\n",
      "15\n",
      "no item left in the list\n"
     ]
    }
   ],
   "source": [
    "numbers = [1, 2, 5, 7, 11, 12, 15]\n",
    "# iterating over the list\n",
    "for item in numbers:\n",
    "    print(item)\n",
    "else:\n",
    "       print(\"no item left in the list\")"
   ]
  },
  {
   "cell_type": "code",
   "execution_count": 31,
   "metadata": {},
   "outputs": [
    {
     "name": "stdout",
     "output_type": "stream",
     "text": [
      "1\n",
      "2\n"
     ]
    }
   ],
   "source": [
    "for item in numbers:\n",
    "    print(item)\n",
    "    if item % 2 == 0:\n",
    "        break\n",
    "else:\n",
    "            print(\"no item left in the list\")"
   ]
  },
  {
   "cell_type": "code",
   "execution_count": 32,
   "metadata": {},
   "outputs": [
    {
     "name": "stdout",
     "output_type": "stream",
     "text": [
      "Enter Index1 number: 34\n",
      "Enter Index1 number: 56\n",
      "Primr numbers between 34 and 56 are :\n",
      "37\n",
      "41\n",
      "43\n",
      "47\n",
      "53\n"
     ]
    }
   ],
   "source": [
    "# Python Programme to display prime numbers within an interval. \n",
    "index1 = int(input(\"Enter Index1 number: \"))\n",
    "index2 = int(input(\"Enter Index1 number: \"))\n",
    "print(\"Primr numbers between {0} and {1} are :\".format(index1,index2))\n",
    "for num in range(index1,index2+1):  # default step size is 1\n",
    "    if num > 1:\n",
    "        isDivisible = False\n",
    "        for index in range(2, num):\n",
    "            if num % index == 0:\n",
    "                isDivisible = True\n",
    "        if not isDivisible:\n",
    "             print(num)"
   ]
  },
  {
   "cell_type": "code",
   "execution_count": 33,
   "metadata": {},
   "outputs": [
    {
     "name": "stdout",
     "output_type": "stream",
     "text": [
      "My first name is: Jyoti\n",
      "My last name is: Sabarad\n",
      "My first name is Jyoti and the last name is Sabarad  : \n"
     ]
    }
   ],
   "source": [
    "firstname = input(\"My first name is: \")\n",
    "lastname = input(\"My last name is: \" )\n",
    "print(\"My first name is {} and the last name is {}  : \".format(firstname,lastname))"
   ]
  },
  {
   "cell_type": "code",
   "execution_count": 36,
   "metadata": {},
   "outputs": [
    {
     "name": "stdout",
     "output_type": "stream",
     "text": [
      "Enter Index1 number: 57\n",
      "Enter Index2 number: 88\n",
      "Prime numbers between 57 and 88 are :\n",
      "59\n",
      "61\n",
      "67\n",
      "71\n",
      "73\n",
      "79\n",
      "83\n"
     ]
    }
   ],
   "source": [
    "index1 = int(input(\"Enter Index1 number: \"))\n",
    "index2 = int(input(\"Enter Index2 number: \"))\n",
    "\n",
    "print(\"Prime numbers between {0} and {1} are :\".format(index1, index2))\n",
    "\n",
    "for num in range(index1, index2 + 1):\n",
    "   # all prime numbers are greater than 1\n",
    "   if num > 1:\n",
    "        for i in range(2, num):\n",
    "            if (num % i) == 0:\n",
    "                break\n",
    "        else:\n",
    "            print(num)\n"
   ]
  },
  {
   "cell_type": "code",
   "execution_count": 37,
   "metadata": {},
   "outputs": [
    {
     "name": "stdout",
     "output_type": "stream",
     "text": [
      "0 1\n",
      "1 2\n",
      "2 3\n",
      "3 4\n",
      "4 5\n"
     ]
    }
   ],
   "source": [
    "list1 = [1,2,3,4,5]\n",
    "for index, val in enumerate(list1):\n",
    "    print(index, val)"
   ]
  },
  {
   "cell_type": "code",
   "execution_count": null,
   "metadata": {},
   "outputs": [],
   "source": []
  },
  {
   "cell_type": "code",
   "execution_count": null,
   "metadata": {},
   "outputs": [],
   "source": []
  }
 ],
 "metadata": {
  "kernelspec": {
   "display_name": "Python 3",
   "language": "python",
   "name": "python3"
  },
  "language_info": {
   "codemirror_mode": {
    "name": "ipython",
    "version": 3
   },
   "file_extension": ".py",
   "mimetype": "text/x-python",
   "name": "python",
   "nbconvert_exporter": "python",
   "pygments_lexer": "ipython3",
   "version": "3.7.6"
  }
 },
 "nbformat": 4,
 "nbformat_minor": 4
}
